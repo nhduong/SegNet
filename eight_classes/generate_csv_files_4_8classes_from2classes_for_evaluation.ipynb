{
 "cells": [
  {
   "cell_type": "code",
   "execution_count": 3,
   "metadata": {
    "collapsed": true
   },
   "outputs": [],
   "source": [
    "PATH = 'E:/fingerpaint_dataset_segnet/data_hand_w_bck/test8'"
   ]
  },
  {
   "cell_type": "code",
   "execution_count": 7,
   "metadata": {
    "collapsed": true
   },
   "outputs": [],
   "source": [
    "import os\n",
    "import sys\n",
    "import numpy as np\n",
    "\n",
    "from IPython.display import clear_output"
   ]
  },
  {
   "cell_type": "code",
   "execution_count": 10,
   "metadata": {},
   "outputs": [
    {
     "name": "stdout",
     "output_type": "stream",
     "text": [
      "done.\n",
      "SubjectD:\n",
      " > combined: 3500 images\n",
      " > global: 3500 images\n",
      " > poses: 3500 images\n",
      "SubjectE:\n",
      " > combined: 3500 images\n",
      " > global: 3500 images\n",
      " > poses: 3500 images\n"
     ]
    }
   ],
   "source": [
    "data_type = ['combined', 'global', 'poses']\n",
    "subject_name = ['SubjectD', 'SubjectE']\n",
    "\n",
    "n_items_found = np.zeros((3, 2))\n",
    "\n",
    "sn_indx = 0\n",
    "for sn in subject_name:\n",
    "    dt_indx = 0\n",
    "    for dt in data_type:\n",
    "        # Create csv file based on data type and subject name\n",
    "        f = open(dt + '_' + sn + '.csv', 'w')\n",
    "        f.write('Image,GroundTruth\\n')\n",
    "        f.close()\n",
    "        \n",
    "        f = open(dt + '_' + sn + '.csv', 'a')\n",
    "        \n",
    "        n_img = 0\n",
    "        # Count number of images\n",
    "        for img in os.listdir(PATH):\n",
    "            # Depth image\n",
    "            if img.find('_depth') > -1:\n",
    "                # Match data type\n",
    "                if img.find(dt) > -1:\n",
    "                    # Match subject name\n",
    "                    if img.find(sn) > -1:\n",
    "                        n_img += 1\n",
    "        \n",
    "        i_img = 1\n",
    "        for img in os.listdir(PATH):\n",
    "            # Depth image\n",
    "            if img.find('_depth') > -1:\n",
    "                # Match data type\n",
    "                if img.find(dt) > -1:\n",
    "                    # Match subject name\n",
    "                    if img.find(sn) > -1:\n",
    "                        img_path = PATH + '/' + img\n",
    "                        label_path = img_path\n",
    "                        label_path = label_path.replace('depth', 'labels')\n",
    "                        if os.path.isfile(img_path) == True and os.path.isfile(label_path) == True:\n",
    "                            f.write(img_path + ',' + label_path + '\\n')\n",
    "\n",
    "                            if i_img % 10 == 0:\n",
    "                                clear_output(wait=True)\n",
    "                                print('-> image %d/%d @ (%s, %s)\\n' % (i_img, n_img, sn, dt))\n",
    "                        i_img += 1\n",
    "        \n",
    "        f.close()\n",
    "        n_items_found[dt_indx, sn_indx] = i_img - 1\n",
    "        \n",
    "        dt_indx += 1\n",
    "    \n",
    "    sn_indx += 1\n",
    "\n",
    "clear_output(wait=True)\n",
    "print('done.')\n",
    "\n",
    "sn_indx = 0\n",
    "for sn in subject_name:\n",
    "    print(sn + ':')\n",
    "    dt_indx = 0\n",
    "    for dt in data_type:\n",
    "        print(' > %s: %d images' % (dt, n_items_found[dt_indx, sn_indx]))\n",
    "        \n",
    "        dt_indx += 1\n",
    "    sn_indx += 1"
   ]
  },
  {
   "cell_type": "code",
   "execution_count": null,
   "metadata": {
    "collapsed": true
   },
   "outputs": [],
   "source": []
  }
 ],
 "metadata": {
  "anaconda-cloud": {},
  "kernelspec": {
   "display_name": "Python [conda root]",
   "language": "python",
   "name": "conda-root-py"
  },
  "language_info": {
   "codemirror_mode": {
    "name": "ipython",
    "version": 3
   },
   "file_extension": ".py",
   "mimetype": "text/x-python",
   "name": "python",
   "nbconvert_exporter": "python",
   "pygments_lexer": "ipython3",
   "version": "3.5.2"
  }
 },
 "nbformat": 4,
 "nbformat_minor": 1
}
