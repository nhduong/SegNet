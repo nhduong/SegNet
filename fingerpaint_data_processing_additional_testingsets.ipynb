{
 "cells": [
  {
   "cell_type": "code",
   "execution_count": 1,
   "metadata": {
    "collapsed": true
   },
   "outputs": [],
   "source": [
    "# combinedSubjectA_depth\n",
    "# combinedSubjectB_depth"
   ]
  },
  {
   "cell_type": "code",
   "execution_count": 1,
   "metadata": {
    "collapsed": true
   },
   "outputs": [],
   "source": [
    "import cv2\n",
    "import os\n",
    "import random"
   ]
  },
  {
   "cell_type": "code",
   "execution_count": 2,
   "metadata": {},
   "outputs": [
    {
     "name": "stdout",
     "output_type": "stream",
     "text": [
      "> 21500 images found\n",
      "   ---> processed 0 files.\n",
      "   ---> processed 5000 files.\n",
      "   ---> processed 10000 files.\n",
      "   ---> processed 15000 files.\n",
      "   ---> processed 20000 files.\n",
      "21500 files processed... done.\n"
     ]
    }
   ],
   "source": [
    "num_total = 0\n",
    "\n",
    "cur_num_total = 0\n",
    "\n",
    "# PATH = 'E:/fingerpaint_dataset_segnet/data/depth'\n",
    "PATH = 'E:/fingerpaint_dataset_segnet/data/tmp/depth'\n",
    "\n",
    "for dir_path, dir_names, file_names in os.walk(PATH):\n",
    "    for file_name in [f for f in file_names if f.endswith('.png')]:\n",
    "        num_total += 1\n",
    "\n",
    "print('> %d images found' % (num_total))\n",
    "\n",
    "# write csv headers\n",
    "test_file = open('test_additional.csv', 'w')\n",
    "test_file.write('Image,GroundTruth\\n')\n",
    "\n",
    "indx = 0\n",
    "for dir_path, dir_names, file_names in os.walk(PATH):\n",
    "    for file_name in [f for f in file_names if f.endswith('.png')]:\n",
    "        depth_img = os.path.join(dir_path, file_name).replace(\"\\\\\",\"/\")\n",
    "        label_img = os.path.join(dir_path, file_name).replace('depth', 'labels').replace(\"\\\\\",\"/\")\n",
    "        \n",
    "        # write to test csv\n",
    "        test_file.write(depth_img + ',' + label_img + '\\n')\n",
    "        \n",
    "        if indx % 5000 == 0:\n",
    "            print('   ---> processed %d files.' % (indx))\n",
    "            \n",
    "        indx += 1\n",
    "\n",
    "test_file.close()\n",
    "\n",
    "print('%d files processed... done.' % (indx))"
   ]
  },
  {
   "cell_type": "code",
   "execution_count": null,
   "metadata": {
    "collapsed": true
   },
   "outputs": [],
   "source": []
  }
 ],
 "metadata": {
  "anaconda-cloud": {},
  "kernelspec": {
   "display_name": "Python [conda root]",
   "language": "python",
   "name": "conda-root-py"
  },
  "language_info": {
   "codemirror_mode": {
    "name": "ipython",
    "version": 3
   },
   "file_extension": ".py",
   "mimetype": "text/x-python",
   "name": "python",
   "nbconvert_exporter": "python",
   "pygments_lexer": "ipython3",
   "version": "3.5.2"
  }
 },
 "nbformat": 4,
 "nbformat_minor": 1
}
