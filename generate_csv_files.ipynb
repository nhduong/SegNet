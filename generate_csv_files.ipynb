{
 "cells": [
  {
   "cell_type": "code",
   "execution_count": 6,
   "metadata": {},
   "outputs": [],
   "source": [
    "PATH = 'E:/fingerpaint_dataset_segnet/data'"
   ]
  },
  {
   "cell_type": "code",
   "execution_count": 7,
   "metadata": {},
   "outputs": [],
   "source": [
    "import os\n",
    "import sys\n",
    "\n",
    "from IPython.display import clear_output"
   ]
  },
  {
   "cell_type": "code",
   "execution_count": 18,
   "metadata": {},
   "outputs": [
    {
     "name": "stdout",
     "output_type": "stream",
     "text": [
      "done.\n"
     ]
    }
   ],
   "source": [
    "n_subset = len(os.listdir(PATH))\n",
    "i_subset = 1\n",
    "for subset in os.listdir(PATH):\n",
    "    subset_path = PATH + '/' + subset    \n",
    "    f = open(subset + '.csv', 'w')\n",
    "    f.write('Image,GroundTruth\\n')\n",
    "    f.close()\n",
    "    \n",
    "    f = open(subset + '.csv', 'a')\n",
    "    n_obj = len(os.listdir(subset_path))/2\n",
    "    i_obj = 1\n",
    "    for obj in os.listdir(subset_path):\n",
    "        if obj.endswith('_depth'):\n",
    "            obj_path = subset_path + '/' + obj\n",
    "            n_img = len(os.listdir(obj_path))\n",
    "            i_img = 1\n",
    "            for img in os.listdir(obj_path):\n",
    "                img_path = obj_path + '/' + img\n",
    "                label_path = img_path\n",
    "                label_path = label_path.replace('depth', 'labels')\n",
    "                if os.path.isfile(img_path) == True and os.path.isfile(label_path) == True:\n",
    "                    f.write(img_path + ',' + label_path + '\\n')\n",
    "                    \n",
    "                    if i_img % 10 == 0:\n",
    "                        clear_output(wait=True)\n",
    "                        print('-> %s (%d/%d) -> %s (%d/%d) -> image %d/%d\\n' % (subset, i_subset, n_subset, obj, i_obj, n_obj, i_img, n_img))\n",
    "#                 print(img_path + ' (' + str(os.path.isfile(img_path)) + ')')\n",
    "#                 print(label_path + ' (' + str(os.path.isfile(label_path)) + ')')\n",
    "                i_img += 1\n",
    "#             f.close()\n",
    "#             sys.exit(0)\n",
    "            i_obj += 1\n",
    "    f.close()\n",
    "    i_subset += 1\n",
    "\n",
    "clear_output(wait=True)\n",
    "print('done.')"
   ]
  }
 ],
 "metadata": {
  "anaconda-cloud": {},
  "kernelspec": {
   "display_name": "Python [conda root]",
   "language": "python",
   "name": "conda-root-py"
  },
  "language_info": {
   "codemirror_mode": {
    "name": "ipython",
    "version": 3
   },
   "file_extension": ".py",
   "mimetype": "text/x-python",
   "name": "python",
   "nbconvert_exporter": "python",
   "pygments_lexer": "ipython3",
   "version": "3.5.2"
  }
 },
 "nbformat": 4,
 "nbformat_minor": 1
}
